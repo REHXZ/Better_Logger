{
 "cells": [
  {
   "cell_type": "code",
   "execution_count": 7,
   "id": "7f7bd074",
   "metadata": {},
   "outputs": [
    {
     "ename": "ValueError",
     "evalue": "All parameters must be provided and non-empty.",
     "output_type": "error",
     "traceback": [
      "\u001b[1;31m---------------------------------------------------------------------------\u001b[0m",
      "\u001b[1;31mValueError\u001b[0m                                Traceback (most recent call last)",
      "Cell \u001b[1;32mIn[7], line 49\u001b[0m\n\u001b[0;32m     46\u001b[0m username \u001b[38;5;241m=\u001b[39m \u001b[38;5;124m'\u001b[39m\u001b[38;5;124m'\u001b[39m  \u001b[38;5;66;03m# Replace with your SQL Server username\u001b[39;00m\n\u001b[0;32m     47\u001b[0m password \u001b[38;5;241m=\u001b[39m \u001b[38;5;124m'\u001b[39m\u001b[38;5;124m'\u001b[39m  \u001b[38;5;66;03m# Replace with your SQL Server password\u001b[39;00m\n\u001b[1;32m---> 49\u001b[0m \u001b[38;5;28;01mif\u001b[39;00m check_database_exists(server, db_to_check, username, password):\n\u001b[0;32m     50\u001b[0m     \u001b[38;5;28mprint\u001b[39m(\u001b[38;5;124mf\u001b[39m\u001b[38;5;124m\"\u001b[39m\u001b[38;5;124mDatabase \u001b[39m\u001b[38;5;124m'\u001b[39m\u001b[38;5;132;01m{\u001b[39;00mdb_to_check\u001b[38;5;132;01m}\u001b[39;00m\u001b[38;5;124m'\u001b[39m\u001b[38;5;124m exists on server \u001b[39m\u001b[38;5;124m'\u001b[39m\u001b[38;5;132;01m{\u001b[39;00mserver\u001b[38;5;132;01m}\u001b[39;00m\u001b[38;5;124m'\u001b[39m\u001b[38;5;124m.\u001b[39m\u001b[38;5;124m\"\u001b[39m)\n\u001b[0;32m     51\u001b[0m \u001b[38;5;28;01melse\u001b[39;00m:\n",
      "Cell \u001b[1;32mIn[7], line 15\u001b[0m, in \u001b[0;36mcheck_database_exists\u001b[1;34m(server_name, database_name, username, password, driver)\u001b[0m\n\u001b[0;32m      4\u001b[0m \u001b[38;5;250m\u001b[39m\u001b[38;5;124;03m\"\"\"\u001b[39;00m\n\u001b[0;32m      5\u001b[0m \u001b[38;5;124;03mChecks if a specific database exists on the SQL Server.\u001b[39;00m\n\u001b[0;32m      6\u001b[0m \n\u001b[1;32m   (...)\u001b[0m\n\u001b[0;32m     12\u001b[0m \u001b[38;5;124;03m    bool: True if the database exists, False otherwise.\u001b[39;00m\n\u001b[0;32m     13\u001b[0m \u001b[38;5;124;03m\"\"\"\u001b[39;00m\n\u001b[0;32m     14\u001b[0m \u001b[38;5;28;01mif\u001b[39;00m \u001b[38;5;129;01mnot\u001b[39;00m \u001b[38;5;28mall\u001b[39m([server_name, database_name, username, password]):\n\u001b[1;32m---> 15\u001b[0m     \u001b[38;5;28;01mraise\u001b[39;00m \u001b[38;5;167;01mValueError\u001b[39;00m(\u001b[38;5;124m\"\u001b[39m\u001b[38;5;124mAll parameters must be provided and non-empty.\u001b[39m\u001b[38;5;124m\"\u001b[39m)\n\u001b[0;32m     17\u001b[0m connection_string \u001b[38;5;241m=\u001b[39m (\n\u001b[0;32m     18\u001b[0m     \u001b[38;5;124mf\u001b[39m\u001b[38;5;124m\"\u001b[39m\u001b[38;5;124mDRIVER=\u001b[39m\u001b[38;5;130;01m{{\u001b[39;00m\u001b[38;5;124mODBC Driver 17 for SQL Server\u001b[39m\u001b[38;5;130;01m}}\u001b[39;00m\u001b[38;5;124m;\u001b[39m\u001b[38;5;124m\"\u001b[39m  \u001b[38;5;66;03m# Adjust driver as needed\u001b[39;00m\n\u001b[0;32m     19\u001b[0m     \u001b[38;5;124mf\u001b[39m\u001b[38;5;124m\"\u001b[39m\u001b[38;5;124mSERVER=\u001b[39m\u001b[38;5;132;01m{\u001b[39;00mserver_name\u001b[38;5;132;01m}\u001b[39;00m\u001b[38;5;124m;\u001b[39m\u001b[38;5;124m\"\u001b[39m\n\u001b[0;32m     20\u001b[0m     \u001b[38;5;124mf\u001b[39m\u001b[38;5;124m\"\u001b[39m\u001b[38;5;124mUID=\u001b[39m\u001b[38;5;132;01m{\u001b[39;00musername\u001b[38;5;132;01m}\u001b[39;00m\u001b[38;5;124m;\u001b[39m\u001b[38;5;124m\"\u001b[39m  \u001b[38;5;66;03m# Uncomment and provide if not using trusted connection\u001b[39;00m\n\u001b[0;32m     21\u001b[0m     \u001b[38;5;124mf\u001b[39m\u001b[38;5;124m\"\u001b[39m\u001b[38;5;124mPWD=\u001b[39m\u001b[38;5;132;01m{\u001b[39;00mpassword\u001b[38;5;132;01m}\u001b[39;00m\u001b[38;5;124m;\u001b[39m\u001b[38;5;124m\"\u001b[39m  \u001b[38;5;66;03m# Uncomment and provide if not using trusted connection\u001b[39;00m\n\u001b[0;32m     22\u001b[0m )\n\u001b[0;32m     24\u001b[0m \u001b[38;5;28;01mtry\u001b[39;00m:\n",
      "\u001b[1;31mValueError\u001b[0m: All parameters must be provided and non-empty."
     ]
    }
   ],
   "source": [
    "import pyodbc\n",
    "\n",
    "def check_database_exists(server_name, database_name, username, password, driver=\"ODBC Driver 17 for SQL Server\"):\n",
    "    \"\"\"\n",
    "    Checks if a specific database exists on the SQL Server.\n",
    "\n",
    "    Args:\n",
    "        server_name (str): The name of the SQL Server instance.\n",
    "        database_name (str): The name of the database to check.\n",
    "\n",
    "    Returns:\n",
    "        bool: True if the database exists, False otherwise.\n",
    "    \"\"\"\n",
    "    if not all([server_name, database_name, username, password]):\n",
    "        raise ValueError(\"All parameters must be provided and non-empty.\")\n",
    "\n",
    "    connection_string = (\n",
    "        f\"DRIVER={{ODBC Driver 17 for SQL Server}};\"  # Adjust driver as needed\n",
    "        f\"SERVER={server_name};\"\n",
    "        f\"UID={username};\"  # Uncomment and provide if not using trusted connection\n",
    "        f\"PWD={password};\"  # Uncomment and provide if not using trusted connection\n",
    "    )\n",
    "\n",
    "    try:\n",
    "        cnxn = pyodbc.connect(connection_string)\n",
    "        cursor = cnxn.cursor()\n",
    "\n",
    "        # Query to check if the database exists\n",
    "        query = f\"SELECT DB_ID('{database_name}')\"\n",
    "        cursor.execute(query)\n",
    "\n",
    "        db_id = cursor.fetchone()[0]\n",
    "        cursor.close()\n",
    "        cnxn.close()\n",
    "\n",
    "        return db_id is not None\n",
    "\n",
    "    except pyodbc.Error as ex:\n",
    "        sqlstate = ex.args[0]\n",
    "        print(f\"Error connecting to SQL Server: {sqlstate}\")\n",
    "        return False\n",
    "\n",
    "# Example usage:\n",
    "server = ''  # Replace with your SQL Server instance name\n",
    "db_to_check = ''  # Replace with the database name you want to check\n",
    "username = ''  # Replace with your SQL Server username\n",
    "password = ''  # Replace with your SQL Server password\n",
    "\n",
    "if check_database_exists(server, db_to_check, username, password):\n",
    "    print(f\"Database '{db_to_check}' exists on server '{server}'.\")\n",
    "else:\n",
    "    print(f\"Database '{db_to_check}' does NOT exist on server '{server}'.\")\n"
   ]
  },
  {
   "cell_type": "code",
   "execution_count": null,
   "id": "128bb29c",
   "metadata": {},
   "outputs": [],
   "source": []
  }
 ],
 "metadata": {
  "kernelspec": {
   "display_name": "base",
   "language": "python",
   "name": "python3"
  },
  "language_info": {
   "codemirror_mode": {
    "name": "ipython",
    "version": 3
   },
   "file_extension": ".py",
   "mimetype": "text/x-python",
   "name": "python",
   "nbconvert_exporter": "python",
   "pygments_lexer": "ipython3",
   "version": "3.12.3"
  }
 },
 "nbformat": 4,
 "nbformat_minor": 5
}
